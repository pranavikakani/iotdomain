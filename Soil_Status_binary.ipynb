{
 "cells": [
  {
   "cell_type": "code",
   "execution_count": 64,
   "id": "stupid-spirit",
   "metadata": {},
   "outputs": [],
   "source": [
    "import numpy as np\n",
    "import pandas as pd\n",
    "import matplotlib.pyplot as plt\n",
    "from sklearn.model_selection import train_test_split\n",
    "from sklearn.preprocessing import StandardScaler\n",
    "from sklearn.ensemble import RandomForestClassifier\n",
    "from sklearn.linear_model import LogisticRegression\n",
    "from sklearn.neighbors import KNeighborsClassifier\n",
    "from sklearn.metrics import confusion_matrix\n",
    "import joblib\n",
    "from sklearn.preprocessing import LabelEncoder"
   ]
  },
  {
   "cell_type": "code",
   "execution_count": 65,
   "id": "close-conversion",
   "metadata": {},
   "outputs": [
    {
     "data": {
      "text/html": [
       "<div>\n",
       "<style scoped>\n",
       "    .dataframe tbody tr th:only-of-type {\n",
       "        vertical-align: middle;\n",
       "    }\n",
       "\n",
       "    .dataframe tbody tr th {\n",
       "        vertical-align: top;\n",
       "    }\n",
       "\n",
       "    .dataframe thead th {\n",
       "        text-align: right;\n",
       "    }\n",
       "</style>\n",
       "<table border=\"1\" class=\"dataframe\">\n",
       "  <thead>\n",
       "    <tr style=\"text-align: right;\">\n",
       "      <th></th>\n",
       "      <th>Humidity</th>\n",
       "      <th>Temperature</th>\n",
       "      <th>Status</th>\n",
       "    </tr>\n",
       "  </thead>\n",
       "  <tbody>\n",
       "    <tr>\n",
       "      <th>0</th>\n",
       "      <td>69.26</td>\n",
       "      <td>25.68</td>\n",
       "      <td>Wet</td>\n",
       "    </tr>\n",
       "    <tr>\n",
       "      <th>1</th>\n",
       "      <td>57.05</td>\n",
       "      <td>34.49</td>\n",
       "      <td>Dry</td>\n",
       "    </tr>\n",
       "    <tr>\n",
       "      <th>2</th>\n",
       "      <td>50.33</td>\n",
       "      <td>30.50</td>\n",
       "      <td>Dry</td>\n",
       "    </tr>\n",
       "    <tr>\n",
       "      <th>3</th>\n",
       "      <td>58.52</td>\n",
       "      <td>29.99</td>\n",
       "      <td>Wet</td>\n",
       "    </tr>\n",
       "    <tr>\n",
       "      <th>4</th>\n",
       "      <td>53.22</td>\n",
       "      <td>31.22</td>\n",
       "      <td>Dry</td>\n",
       "    </tr>\n",
       "  </tbody>\n",
       "</table>\n",
       "</div>"
      ],
      "text/plain": [
       "   Humidity  Temperature Status\n",
       "0     69.26        25.68    Wet\n",
       "1     57.05        34.49    Dry\n",
       "2     50.33        30.50    Dry\n",
       "3     58.52        29.99    Wet\n",
       "4     53.22        31.22    Dry"
      ]
     },
     "execution_count": 65,
     "metadata": {},
     "output_type": "execute_result"
    }
   ],
   "source": [
    "data = pd.read_csv(\"data - Copy.csv\")\n",
    "data.dropna()\n",
    "data.head()"
   ]
  },
  {
   "cell_type": "code",
   "execution_count": 66,
   "id": "fitted-wrestling",
   "metadata": {},
   "outputs": [
    {
     "data": {
      "text/plain": [
       "(500, 3)"
      ]
     },
     "execution_count": 66,
     "metadata": {},
     "output_type": "execute_result"
    }
   ],
   "source": [
    "data.shape"
   ]
  },
  {
   "cell_type": "code",
   "execution_count": 67,
   "id": "stainless-fireplace",
   "metadata": {},
   "outputs": [
    {
     "name": "stdout",
     "output_type": "stream",
     "text": [
      "   Humidity  Temperature  Status\n",
      "0     69.26        25.68       0\n",
      "1     57.05        34.49       1\n",
      "2     50.33        30.50       1\n",
      "3     58.52        29.99       0\n",
      "4     53.22        31.22       1\n",
      "Index(['Wet', 'Dry'], dtype='object')\n"
     ]
    }
   ],
   "source": [
    "factor = pd.factorize(data['Status'])\n",
    "data['Status'] = factor[0]\n",
    "definitions = factor[1]\n",
    "data.dropna()\n",
    "print(data.head())\n",
    "print(definitions)"
   ]
  },
  {
   "cell_type": "code",
   "execution_count": 68,
   "id": "herbal-counter",
   "metadata": {},
   "outputs": [],
   "source": [
    "X = data.iloc[:, 0:2].values\n",
    "y = data.iloc[:, 2].values"
   ]
  },
  {
   "cell_type": "code",
   "execution_count": 69,
   "id": "blocked-diabetes",
   "metadata": {},
   "outputs": [
    {
     "data": {
      "text/plain": [
       "array([[69.26, 25.68],\n",
       "       [57.05, 34.49],\n",
       "       [50.33, 30.5 ],\n",
       "       [58.52, 29.99],\n",
       "       [53.22, 31.22]])"
      ]
     },
     "execution_count": 69,
     "metadata": {},
     "output_type": "execute_result"
    }
   ],
   "source": [
    "X[:5,:]"
   ]
  },
  {
   "cell_type": "code",
   "execution_count": 70,
   "id": "differential-polls",
   "metadata": {},
   "outputs": [
    {
     "data": {
      "text/plain": [
       "array([0, 1, 1, 0, 1], dtype=int64)"
      ]
     },
     "execution_count": 70,
     "metadata": {},
     "output_type": "execute_result"
    }
   ],
   "source": [
    "y[:5]"
   ]
  },
  {
   "cell_type": "code",
   "execution_count": 71,
   "id": "awful-ethiopia",
   "metadata": {},
   "outputs": [],
   "source": [
    "X_train, X_test, y_train, y_test = train_test_split(X, y, test_size = 0.25)"
   ]
  },
  {
   "cell_type": "code",
   "execution_count": null,
   "id": "earned-density",
   "metadata": {},
   "outputs": [],
   "source": []
  },
  {
   "cell_type": "code",
   "execution_count": 72,
   "id": "quiet-equilibrium",
   "metadata": {},
   "outputs": [],
   "source": [
    "scaler = StandardScaler()\n",
    "X_train = scaler.fit_transform(X_train)\n",
    "X_test = scaler.transform(X_test)"
   ]
  },
  {
   "cell_type": "code",
   "execution_count": null,
   "id": "governmental-senior",
   "metadata": {},
   "outputs": [],
   "source": []
  },
  {
   "cell_type": "markdown",
   "id": "developed-brooks",
   "metadata": {},
   "source": [
    "# Using Random Forest Classifier"
   ]
  },
  {
   "cell_type": "code",
   "execution_count": 73,
   "id": "ceramic-capital",
   "metadata": {},
   "outputs": [
    {
     "data": {
      "text/plain": [
       "RandomForestClassifier(criterion='entropy', n_estimators=10, random_state=42)"
      ]
     },
     "execution_count": 73,
     "metadata": {},
     "output_type": "execute_result"
    }
   ],
   "source": [
    "classifier_rfc = RandomForestClassifier(n_estimators = 10, criterion = 'entropy', random_state = 42)\n",
    "classifier_rfc.fit(X_train, y_train)"
   ]
  },
  {
   "cell_type": "code",
   "execution_count": 74,
   "id": "driven-parameter",
   "metadata": {},
   "outputs": [],
   "source": [
    "y_pred_rfc = classifier_rfc.predict(X_test)"
   ]
  },
  {
   "cell_type": "code",
   "execution_count": 75,
   "id": "intense-tract",
   "metadata": {},
   "outputs": [],
   "source": [
    "reversefactor = dict(zip(range(2),definitions))\n",
    "y_test_labels = np.vectorize(reversefactor.get)(y_test)\n",
    "y_pred_rfc = np.vectorize(reversefactor.get)(y_pred_rfc)"
   ]
  },
  {
   "cell_type": "code",
   "execution_count": 76,
   "id": "civilian-playing",
   "metadata": {},
   "outputs": [
    {
     "name": "stdout",
     "output_type": "stream",
     "text": [
      "Predicted Value  Dry  Wet\n",
      "True Value               \n",
      "Dry               59   11\n",
      "Wet               13   42\n"
     ]
    }
   ],
   "source": [
    "print(pd.crosstab(y_test_labels, y_pred_rfc, rownames=['True Value'], colnames=['Predicted Value']))"
   ]
  },
  {
   "cell_type": "code",
   "execution_count": 77,
   "id": "former-identity",
   "metadata": {},
   "outputs": [
    {
     "data": {
      "text/plain": [
       "array([[59, 11],\n",
       "       [13, 42]], dtype=int64)"
      ]
     },
     "execution_count": 77,
     "metadata": {},
     "output_type": "execute_result"
    }
   ],
   "source": [
    "confusion_matrix(y_test_labels, y_pred_rfc)"
   ]
  },
  {
   "cell_type": "code",
   "execution_count": 78,
   "id": "false-award",
   "metadata": {},
   "outputs": [
    {
     "data": {
      "text/plain": [
       "0.808"
      ]
     },
     "execution_count": 78,
     "metadata": {},
     "output_type": "execute_result"
    }
   ],
   "source": [
    "101/125"
   ]
  },
  {
   "cell_type": "code",
   "execution_count": null,
   "id": "metropolitan-maker",
   "metadata": {},
   "outputs": [],
   "source": []
  },
  {
   "cell_type": "markdown",
   "id": "welcome-understanding",
   "metadata": {},
   "source": [
    "# Using Logistic Regression\n"
   ]
  },
  {
   "cell_type": "code",
   "execution_count": 79,
   "id": "nervous-liechtenstein",
   "metadata": {},
   "outputs": [
    {
     "data": {
      "text/plain": [
       "LogisticRegression()"
      ]
     },
     "execution_count": 79,
     "metadata": {},
     "output_type": "execute_result"
    }
   ],
   "source": [
    "classifier_log = LogisticRegression()\n",
    "classifier_log.fit(X_train, y_train)"
   ]
  },
  {
   "cell_type": "code",
   "execution_count": 80,
   "id": "digital-effects",
   "metadata": {},
   "outputs": [],
   "source": [
    "y_pred_log = classifier_log.predict(X_test)"
   ]
  },
  {
   "cell_type": "code",
   "execution_count": 81,
   "id": "appointed-shipping",
   "metadata": {},
   "outputs": [],
   "source": [
    "y_pred_log = np.vectorize(reversefactor.get)(y_pred_log)"
   ]
  },
  {
   "cell_type": "code",
   "execution_count": 82,
   "id": "female-honey",
   "metadata": {},
   "outputs": [
    {
     "data": {
      "text/plain": [
       "array([[47, 23],\n",
       "       [15, 40]], dtype=int64)"
      ]
     },
     "execution_count": 82,
     "metadata": {},
     "output_type": "execute_result"
    }
   ],
   "source": [
    "confusion_matrix(y_test_labels, y_pred_log)"
   ]
  },
  {
   "cell_type": "code",
   "execution_count": 83,
   "id": "owned-replication",
   "metadata": {},
   "outputs": [
    {
     "name": "stdout",
     "output_type": "stream",
     "text": [
      "Predicted Value  Dry  Wet\n",
      "True Value               \n",
      "Dry               47   23\n",
      "Wet               15   40\n"
     ]
    }
   ],
   "source": [
    "print(pd.crosstab(y_test_labels, y_pred_log, rownames=['True Value'], colnames=['Predicted Value']))"
   ]
  },
  {
   "cell_type": "code",
   "execution_count": 91,
   "id": "median-campaign",
   "metadata": {},
   "outputs": [
    {
     "data": {
      "text/plain": [
       "0.696"
      ]
     },
     "execution_count": 91,
     "metadata": {},
     "output_type": "execute_result"
    }
   ],
   "source": [
    "87/125"
   ]
  },
  {
   "cell_type": "code",
   "execution_count": null,
   "id": "removable-secondary",
   "metadata": {},
   "outputs": [],
   "source": []
  },
  {
   "cell_type": "markdown",
   "id": "original-ghost",
   "metadata": {},
   "source": [
    "# Using KNN Classifier"
   ]
  },
  {
   "cell_type": "code",
   "execution_count": 84,
   "id": "working-value",
   "metadata": {},
   "outputs": [
    {
     "data": {
      "text/plain": [
       "KNeighborsClassifier(n_neighbors=4)"
      ]
     },
     "execution_count": 84,
     "metadata": {},
     "output_type": "execute_result"
    }
   ],
   "source": [
    "classifier_knn = KNeighborsClassifier(n_neighbors = 4)\n",
    "classifier_knn.fit(X_train, y_train)"
   ]
  },
  {
   "cell_type": "code",
   "execution_count": 85,
   "id": "angry-country",
   "metadata": {},
   "outputs": [],
   "source": [
    "y_pred_knn = classifier_knn.predict(X_test)"
   ]
  },
  {
   "cell_type": "code",
   "execution_count": 86,
   "id": "computational-metadata",
   "metadata": {},
   "outputs": [],
   "source": [
    "y_pred_knn = np.vectorize(reversefactor.get)(y_pred_knn)"
   ]
  },
  {
   "cell_type": "code",
   "execution_count": 87,
   "id": "experimental-convergence",
   "metadata": {},
   "outputs": [
    {
     "data": {
      "text/plain": [
       "array([[54, 16],\n",
       "       [10, 45]], dtype=int64)"
      ]
     },
     "execution_count": 87,
     "metadata": {},
     "output_type": "execute_result"
    }
   ],
   "source": [
    "confusion_matrix(y_test_labels, y_pred_knn)"
   ]
  },
  {
   "cell_type": "code",
   "execution_count": 88,
   "id": "combined-filling",
   "metadata": {
    "scrolled": true
   },
   "outputs": [
    {
     "name": "stdout",
     "output_type": "stream",
     "text": [
      "Predicted Value  Dry  Wet\n",
      "True Value               \n",
      "Dry               54   16\n",
      "Wet               10   45\n"
     ]
    }
   ],
   "source": [
    "print(pd.crosstab(y_test_labels, y_pred_knn, rownames=['True Value'], colnames=['Predicted Value']))"
   ]
  },
  {
   "cell_type": "code",
   "execution_count": 92,
   "id": "magnetic-onion",
   "metadata": {},
   "outputs": [
    {
     "data": {
      "text/plain": [
       "0.792"
      ]
     },
     "execution_count": 92,
     "metadata": {},
     "output_type": "execute_result"
    }
   ],
   "source": [
    "99/125"
   ]
  },
  {
   "cell_type": "code",
   "execution_count": null,
   "id": "photographic-douglas",
   "metadata": {},
   "outputs": [],
   "source": []
  },
  {
   "cell_type": "markdown",
   "id": "earlier-trauma",
   "metadata": {},
   "source": [
    "# ROC Analysis"
   ]
  },
  {
   "cell_type": "code",
   "execution_count": 95,
   "id": "central-increase",
   "metadata": {},
   "outputs": [],
   "source": [
    "from sklearn.metrics import roc_curve\n",
    "\n",
    "\n",
    "pred_prob1 = classifier_log.predict_proba(X_test)\n",
    "pred_prob2 = classifier_rfc.predict_proba(X_test)\n",
    "pred_prob3 = classifier_knn.predict_proba(X_test)\n",
    "\n",
    "# roc curve for models\n",
    "fpr1, tpr1, thresh1 = roc_curve(y_test, pred_prob1[:,1], pos_label=1)\n",
    "fpr2, tpr2, thresh2 = roc_curve(y_test, pred_prob2[:,1], pos_label=1)\n",
    "fpr3, tpr3, thresh3 = roc_curve(y_test, pred_prob3[:,1], pos_label=1)\n",
    "\n",
    "# roc curve for tpr = fpr \n",
    "random_probs = [0 for i in range(len(y_test))]\n",
    "p_fpr, p_tpr, _ = roc_curve(y_test, random_probs, pos_label=1)\n",
    "\n"
   ]
  },
  {
   "cell_type": "code",
   "execution_count": 96,
   "id": "geographic-thriller",
   "metadata": {},
   "outputs": [
    {
     "data": {
      "image/png": "[encoded data removed]",
      "text/plain": [
       "<Figure size 576x396 with 1 Axes>"
      ]
     },
     "metadata": {},
     "output_type": "display_data"
    }
   ],
   "source": [
    "import matplotlib.pyplot as plt\n",
    "plt.style.use('seaborn')\n",
    "\n",
    "# plot roc curves\n",
    "plt.plot(fpr1, tpr1, linestyle='--',color='orange', label='Logistic Regression')\n",
    "plt.plot(fpr2, tpr2, linestyle='--',color='green', label='RFC')\n",
    "plt.plot(fpr3, tpr3, linestyle='--',color='red', label='KNN')\n",
    "plt.plot(p_fpr, p_tpr, linestyle='--', color='blue', label = 'No Skill')\n",
    "# title\n",
    "plt.title('ROC curve')\n",
    "# x label\n",
    "plt.xlabel('False Positive Rate')\n",
    "# y label\n",
    "plt.ylabel('True Positive rate')\n",
    "\n",
    "plt.legend(loc='lower right')\n",
    "plt.savefig('ROC',dpi=300)\n",
    "plt.show();"
   ]
  },
  {
   "cell_type": "code",
   "execution_count": 97,
   "id": "unusual-miracle",
   "metadata": {},
   "outputs": [
    {
     "name": "stdout",
     "output_type": "stream",
     "text": [
      "ROC score of Logistic Regression:  0.8218181818181819\n",
      "ROC score of Random Forest Classifier:  0.8631168831168832\n",
      "ROC score of KNN:  0.8422077922077922\n"
     ]
    }
   ],
   "source": [
    "from sklearn.metrics import roc_auc_score\n",
    "\n",
    "print(\"ROC score of Logistic Regression: \",roc_auc_score(y_test, pred_prob1[:, 1]))\n",
    "print(\"ROC score of Random Forest Classifier: \",roc_auc_score(y_test, pred_prob2[:, 1]))\n",
    "print(\"ROC score of KNN: \", roc_auc_score(y_test, pred_prob3[:, 1]))"
   ]
  },
  {
   "cell_type": "code",
   "execution_count": null,
   "id": "activated-circumstances",
   "metadata": {},
   "outputs": [],
   "source": []
  }
 ],
 "metadata": {
  "kernelspec": {
   "display_name": "Python 3",
   "language": "python",
   "name": "python3"
  },
  "language_info": {
   "codemirror_mode": {
    "name": "ipython",
    "version": 3
   },
   "file_extension": ".py",
   "mimetype": "text/x-python",
   "name": "python",
   "nbconvert_exporter": "python",
   "pygments_lexer": "ipython3",
   "version": "3.8.5"
  }
 },
 "nbformat": 4,
 "nbformat_minor": 5
}
